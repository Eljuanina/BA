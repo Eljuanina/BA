{
 "cells": [
  {
   "cell_type": "markdown",
   "id": "5093271c",
   "metadata": {},
   "source": [
    "# This file applies the LatinCy tagger to the treebank test sets"
   ]
  },
  {
   "cell_type": "code",
   "execution_count": 18,
   "id": "4a4acf85",
   "metadata": {},
   "outputs": [],
   "source": [
    "# import spacy and load the large latin model\n",
    "import spacy\n",
    "nlp = spacy.load('la_core_web_lg')"
   ]
  },
  {
   "cell_type": "code",
   "execution_count": 19,
   "id": "48665a58",
   "metadata": {},
   "outputs": [],
   "source": [
    "# open and read all the test sets (token only)\n",
    "with open(\"../random-training-data-other-taggers/test_tok_ittb.txt\") as ittb:\n",
    "    content = ittb.read().strip()\n",
    "# and use latincy on this content\n",
    "doc = nlp(content)\n",
    "\n",
    "with open(\"../random-training-data-other-taggers/test_tok_llct.txt\") as llct:\n",
    "    content2 = llct.read().strip()\n",
    "doc2 = nlp(content2)\n",
    "\n",
    "with open(\"../random-training-data-other-taggers/test_tok_udante.txt\") as udante:\n",
    "    content3 = udante.read().strip()\n",
    "doc3 = nlp(content3)\n",
    "\n",
    "with open(\"../random-training-data-other-taggers/test_tok_proiel.txt\") as proiel:\n",
    "    content4 = proiel.read().strip()\n",
    "doc4 = nlp(content4)\n",
    "\n",
    "with open(\"../random-training-data-other-taggers/test_tok_perseus.txt\") as perseus:\n",
    "    content5 = perseus.read().strip()\n",
    "doc5 = nlp(content5)"
   ]
  },
  {
   "cell_type": "markdown",
   "id": "f00ffe00",
   "metadata": {},
   "source": [
    "### For every doc of contents (analyzed content of files), write to files"
   ]
  },
  {
   "cell_type": "code",
   "execution_count": 20,
   "id": "7c9cca50",
   "metadata": {},
   "outputs": [],
   "source": [
    "# write output token, pos into files\n",
    "with open(\"../random-training-data-other-taggers/test_sets/latincy_ittb.txt\", \"w\") as out:\n",
    "    for token in doc:\n",
    "        # if not just newline character on line print to file with pos tag\n",
    "        if token.text != \"\\n\":\n",
    "            line = token.text.strip()+\"\\t\"+token.pos_+\"\\n\"\n",
    "            out.write(line)"
   ]
  },
  {
   "cell_type": "code",
   "execution_count": 21,
   "id": "06b3ed08",
   "metadata": {},
   "outputs": [],
   "source": [
    "# write output token, pos into files\n",
    "with open(\"../random-training-data-other-taggers/test_sets/latincy_llct.txt\", \"w\") as out2:\n",
    "    for token in doc2:\n",
    "        # if not just newline character on line print to file with pos tag\n",
    "        if token.text != \"\\n\":\n",
    "            line = token.text.strip()+\"\\t\"+token.pos_+\"\\n\"\n",
    "            out2.write(line)"
   ]
  },
  {
   "cell_type": "code",
   "execution_count": 22,
   "id": "fa2cfc17",
   "metadata": {},
   "outputs": [],
   "source": [
    "# write output token, pos into files\n",
    "with open(\"../random-training-data-other-taggers/test_sets/latincy_udante.txt\", \"w\") as out3:\n",
    "    for token in doc3:\n",
    "        # if not just newline character on line print to file with pos tag\n",
    "        if token.text != \"\\n\":\n",
    "            line = token.text.strip()+\"\\t\"+token.pos_+\"\\n\"\n",
    "            out3.write(line)"
   ]
  },
  {
   "cell_type": "code",
   "execution_count": 23,
   "id": "7f81a2c4",
   "metadata": {},
   "outputs": [],
   "source": [
    "# write output token, pos into files\n",
    "with open(\"../random-training-data-other-taggers/test_sets/latincy_proiel.txt\", \"w\") as out4:\n",
    "    for token in doc4:\n",
    "        # if not just newline character on line print to file with pos tag\n",
    "        if token.text != \"\\n\":\n",
    "            line = token.text.strip()+\"\\t\"+token.pos_+\"\\n\"\n",
    "            out4.write(line)"
   ]
  },
  {
   "cell_type": "code",
   "execution_count": 24,
   "id": "0d92b6fe",
   "metadata": {},
   "outputs": [],
   "source": [
    "# write output token, pos into files\n",
    "with open(\"../random-training-data-other-taggers/test_sets/latincy_perseus.txt\", \"w\") as out5:\n",
    "    for token in doc5:\n",
    "        # if not just newline character on line print to file with pos tag\n",
    "        if token.text != \"\\n\":\n",
    "            line = token.text.strip()+\"\\t\"+token.pos_+\"\\n\"\n",
    "            out5.write(line)"
   ]
  },
  {
   "cell_type": "code",
   "execution_count": null,
   "id": "779d030b",
   "metadata": {},
   "outputs": [],
   "source": []
  },
  {
   "cell_type": "code",
   "execution_count": null,
   "id": "8ca5f500",
   "metadata": {},
   "outputs": [],
   "source": []
  }
 ],
 "metadata": {
  "kernelspec": {
   "display_name": "Python 3 (ipykernel)",
   "language": "python",
   "name": "python3"
  },
  "language_info": {
   "codemirror_mode": {
    "name": "ipython",
    "version": 3
   },
   "file_extension": ".py",
   "mimetype": "text/x-python",
   "name": "python",
   "nbconvert_exporter": "python",
   "pygments_lexer": "ipython3",
   "version": "3.11.2"
  }
 },
 "nbformat": 4,
 "nbformat_minor": 5
}
