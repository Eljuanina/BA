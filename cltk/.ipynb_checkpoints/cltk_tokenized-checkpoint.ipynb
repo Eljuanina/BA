{
 "cells": [
  {
   "cell_type": "markdown",
   "id": "808309da",
   "metadata": {},
   "source": [
    "# CLTK on Bullinger Data\n",
    "## For this I am in the virtual environment that supports Python version 3.9.7. "
   ]
  },
  {
   "cell_type": "code",
   "execution_count": 1,
   "id": "0d154a80",
   "metadata": {},
   "outputs": [
    {
     "name": "stdout",
     "output_type": "stream",
     "text": [
      "3.9.7\n"
     ]
    }
   ],
   "source": [
    "from platform import python_version\n",
    "\n",
    "print(python_version())"
   ]
  },
  {
   "cell_type": "code",
   "execution_count": 2,
   "id": "9c1f2aea",
   "metadata": {},
   "outputs": [
    {
     "name": "stderr",
     "output_type": "stream",
     "text": [
      "2023-10-10 08:59:48.203108: I tensorflow/core/platform/cpu_feature_guard.cc:182] This TensorFlow binary is optimized to use available CPU instructions in performance-critical operations.\n",
      "To enable the following instructions: AVX2 FMA, in other operations, rebuild TensorFlow with the appropriate compiler flags.\n"
     ]
    }
   ],
   "source": [
    "# to be able to run script --> activate cltk_env (virtual environment)\n",
    "# change under \"Kernel\" < Change kernel < Python 3.9 (myvenv)\n",
    "\n",
    "# i used these commands:\n",
    "# pip install ipykernel\n",
    "# python -m ipykernel install --user --name=myvenv --display-name \"Python 3.9 (myvenv)\"\n",
    "\n",
    "\n",
    "from cltk import NLP\n",
    "import os"
   ]
  },
  {
   "cell_type": "markdown",
   "id": "27d07cd7",
   "metadata": {},
   "source": [
    "The first part of the snippet is from [here](https://github.com/cltk/cltk/blob/master/notebooks/CLTK%20Demonstration.ipynb)."
   ]
  },
  {
   "cell_type": "code",
   "execution_count": 3,
   "id": "aaf2f875",
   "metadata": {},
   "outputs": [
    {
     "name": "stdout",
     "output_type": "stream",
     "text": [
      "‎𐤀 CLTK version '1.1.6'.\n",
      "Pipeline for language 'Latin' (ISO: 'lat'): `LatinNormalizeProcess`, `LatinStanzaProcess`, `LatinEmbeddingsProcess`, `StopsProcess`, `LatinLexiconProcess`.\n"
     ]
    }
   ],
   "source": [
    "# Load the default Pipeline for Latin\n",
    "cltk_nlp = NLP(language=\"lat\")\n",
    "# Removing ``LatinLexiconProcess`` for this demo b/c it is slow (adds ~9 mins total)\n",
    "cltk_nlp.pipeline.processes.pop(-1)\n",
    "# print(cltk_nlp.pipeline.processes)\n",
    "\n",
    "# navigate to file\n",
    "os.chdir(\"..\")\n",
    "with open(\"samples/tokenized.txt\",\"r\") as f:\n",
    "    # read the file\n",
    "    content = f.read()\n",
    "# analyze the content using cltk\n",
    "cltk_doc = cltk_nlp.analyze(text=content)\n",
    "\n",
    "# get all tokens and store in a list\n",
    "toks = cltk_doc.tokens\n",
    "# get all pos tags and store in a list\n",
    "pos_tags = cltk_doc.pos\n",
    "\n",
    "\n",
    "# create new directory\n",
    "os.chdir(\"cltk\")\n",
    "# and save file there\n",
    "with open(\"cltk_tokenized.txt\",\"w\") as edit:\n",
    "    for ind,token in enumerate(toks):\n",
    "        # write every token and tag with an added newline character\n",
    "        row = token+\"\\t\"+pos_tags[ind]+\"\\n\"\n",
    "        edit.write(row)\n",
    "\n",
    "\n",
    "\n"
   ]
  },
  {
   "cell_type": "code",
   "execution_count": null,
   "id": "00b9299b",
   "metadata": {},
   "outputs": [],
   "source": []
  }
 ],
 "metadata": {
  "kernelspec": {
   "display_name": "Python 3.9 (myvenv)",
   "language": "python",
   "name": "myvenv"
  },
  "language_info": {
   "codemirror_mode": {
    "name": "ipython",
    "version": 3
   },
   "file_extension": ".py",
   "mimetype": "text/x-python",
   "name": "python",
   "nbconvert_exporter": "python",
   "pygments_lexer": "ipython3",
   "version": "3.9.7"
  }
 },
 "nbformat": 4,
 "nbformat_minor": 5
}
