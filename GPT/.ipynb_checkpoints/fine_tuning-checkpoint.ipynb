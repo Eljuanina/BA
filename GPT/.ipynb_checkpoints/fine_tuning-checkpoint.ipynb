{
 "cells": [
  {
   "cell_type": "code",
   "execution_count": 24,
   "id": "8243b249",
   "metadata": {},
   "outputs": [],
   "source": [
    "from collections import defaultdict\n",
    "import json"
   ]
  },
  {
   "cell_type": "code",
   "execution_count": 42,
   "id": "173ec156",
   "metadata": {},
   "outputs": [
    {
     "name": "stdout",
     "output_type": "stream",
     "text": [
      "No errors found\n"
     ]
    }
   ],
   "source": [
    "# format error checks from this video: https://www.youtube.com/watch?v=MkocIPcg5A8; 25.10.23\n",
    "\n",
    "format_errors = defaultdict(int)\n",
    "\n",
    "dataset = []\n",
    "with open(\"../random-training-data-other-taggers/train100.jsonl\",\"r\", encoding = \"utf-8\") as f:\n",
    "    for line in f:\n",
    "        # Load each JSON object from a separate line\n",
    "        line = json.loads(line)\n",
    "        dataset.append(line)\n",
    "        \n",
    "for ex in dataset:\n",
    "    if not isinstance(ex,dict):\n",
    "        print(ex)\n",
    "        format_errors[\"data_type\"]+= 1\n",
    "        continue\n",
    "        \n",
    "    messages = ex.get(\"messages\",None)\n",
    "    \n",
    "    if not messages:\n",
    "        format_errors[\"message_missing_list\"]+=1\n",
    "        \n",
    "    for message in messages:\n",
    "        if \"role\" not in message or \"content\" not in message:\n",
    "            format_errors[\"message_missing_key\"] += 1\n",
    "            \n",
    "        if message.get(\"role\",None) not in (\"system\",\"user\",\"assistant\"):\n",
    "            format_errors[\"unrecognized_role\"] += 1\n",
    "            \n",
    "        content = message.get(\"content\",None)\n",
    "        \n",
    "        if not content or not isinstance(content,str):\n",
    "            format_errors[\"missing_content\"] += 1\n",
    "            \n",
    "    if not any(message.get(\"role\",None) == \"assistant\" for message in messages):\n",
    "        format_errors[\"example_missing_assistant_message\"] += 1\n",
    "        \n",
    "if format_errors:\n",
    "    print(\"Found errors:\")\n",
    "    for k,v in format_errors.items():\n",
    "        print(f\"{k}: {v}\")\n",
    "else:\n",
    "    print(\"No errors found\")"
   ]
  },
  {
   "cell_type": "code",
   "execution_count": null,
   "id": "5156fa8d",
   "metadata": {},
   "outputs": [],
   "source": []
  }
 ],
 "metadata": {
  "kernelspec": {
   "display_name": "Python 3 (ipykernel)",
   "language": "python",
   "name": "python3"
  },
  "language_info": {
   "codemirror_mode": {
    "name": "ipython",
    "version": 3
   },
   "file_extension": ".py",
   "mimetype": "text/x-python",
   "name": "python",
   "nbconvert_exporter": "python",
   "pygments_lexer": "ipython3",
   "version": "3.11.2"
  }
 },
 "nbformat": 4,
 "nbformat_minor": 5
}
