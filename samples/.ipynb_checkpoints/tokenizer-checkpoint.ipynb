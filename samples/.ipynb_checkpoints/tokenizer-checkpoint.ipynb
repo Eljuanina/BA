{
 "cells": [
  {
   "cell_type": "markdown",
   "id": "24287ecd",
   "metadata": {},
   "source": [
    "# This file was used to tokenize the samples"
   ]
  },
  {
   "cell_type": "markdown",
   "id": "edda04ae",
   "metadata": {},
   "source": [
    "I use latincy to tokenize the samples. This tokenized version is then the base for the other taggers. "
   ]
  },
  {
   "cell_type": "code",
   "execution_count": 1,
   "id": "d921f4e6",
   "metadata": {},
   "outputs": [
    {
     "name": "stderr",
     "output_type": "stream",
     "text": [
      "2023-10-06 22:34:22.419210: I tensorflow/core/platform/cpu_feature_guard.cc:182] This TensorFlow binary is optimized to use available CPU instructions in performance-critical operations.\n",
      "To enable the following instructions: AVX2 FMA, in other operations, rebuild TensorFlow with the appropriate compiler flags.\n"
     ]
    }
   ],
   "source": [
    "import spacy"
   ]
  },
  {
   "cell_type": "code",
   "execution_count": 2,
   "id": "2ab13870",
   "metadata": {},
   "outputs": [
    {
     "name": "stderr",
     "output_type": "stream",
     "text": [
      "/Library/Frameworks/Python.framework/Versions/3.11/lib/python3.11/site-packages/tqdm/auto.py:21: TqdmWarning: IProgress not found. Please update jupyter and ipywidgets. See https://ipywidgets.readthedocs.io/en/stable/user_install.html\n",
      "  from .autonotebook import tqdm as notebook_tqdm\n"
     ]
    }
   ],
   "source": [
    "nlp = spacy.load('la_core_web_lg')"
   ]
  },
  {
   "cell_type": "code",
   "execution_count": 8,
   "id": "4890ffde",
   "metadata": {},
   "outputs": [],
   "source": [
    "# chars that should be removed\n",
    "remove_tokens = r',;.:!?\\'\\\"^`[](){}'\n",
    "\n",
    "with open(\"total.txt\",\"r\") as infile:\n",
    "    sentences = infile.readlines()\n",
    "    \n",
    "with open(\"tokenized.txt\",\"w\") as out:\n",
    "    for sentence in sentences:\n",
    "        # strip the newline charcater after each sample sentence\n",
    "        doc = nlp(sentence.strip(\"\\n\"))\n",
    "        for i,token in enumerate(doc):\n",
    "            cleaned = \"\"\n",
    "            for char in token.text:\n",
    "                if char not in remove_tokens:\n",
    "                    cleaned += char\n",
    "                else:\n",
    "                    continue\n",
    "            # if token now empty, don't write anything to the file and continue with next word\n",
    "            if cleaned == \"\":\n",
    "                continue\n",
    "            else:\n",
    "                out.write(cleaned)\n",
    "                out.write(\"\\n\")\n",
    "            "
   ]
  },
  {
   "cell_type": "code",
   "execution_count": null,
   "id": "100e60a3",
   "metadata": {},
   "outputs": [],
   "source": []
  }
 ],
 "metadata": {
  "kernelspec": {
   "display_name": "Python 3 (ipykernel)",
   "language": "python",
   "name": "python3"
  },
  "language_info": {
   "codemirror_mode": {
    "name": "ipython",
    "version": 3
   },
   "file_extension": ".py",
   "mimetype": "text/x-python",
   "name": "python",
   "nbconvert_exporter": "python",
   "pygments_lexer": "ipython3",
   "version": "3.11.2"
  }
 },
 "nbformat": 4,
 "nbformat_minor": 5
}
